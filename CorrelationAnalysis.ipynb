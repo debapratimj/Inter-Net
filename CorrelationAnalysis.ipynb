{
 "cells": [
  {
   "cell_type": "code",
   "execution_count": 1,
   "metadata": {},
   "outputs": [],
   "source": [
    "import pandas as pd\n",
    "def create_dataframe(SpikeMon):\n",
    "    # Transfer the informations from the Spikemonitor to\n",
    "    # a pandas.DataFrame.\n",
    "    # For each neuron a timecourse is created that contains\n",
    "    # 1 if spike else 0 for each simulated point in time.\n",
    "    tr = SpikeMon.spike_trains()\n",
    "    arr = {}\n",
    "    for f in range(0,200):\n",
    "        dfkl = [np.where(np.equal(SpikeMon.t[:], tr[f][c])) for c in range(len(tr[f]))]\n",
    "        dfkl = np.array([sub_dfkl[0][0] for sub_dfkl in dfkl])\n",
    "        if len(dfkl) > 0 :\n",
    "            dfg = np.zeros(len(SpikeMon.t)) \n",
    "            dfg[dfkl] = 1\n",
    "            arr[f] = dfg\n",
    "    return pd.DataFrame(arr)\n",
    "\n",
    "def correlation_analysis(SpikeMon):\n",
    "    # compute correlation-matrix and mean correlation\n",
    "    df = create_dataframe(SpikeMon)\n",
    "    return (df.corr(), df.corr().mean().mean())"
   ]
  },
  {
   "cell_type": "code",
   "execution_count": null,
   "metadata": {},
   "outputs": [],
   "source": [
    "corrmat, corrmean = correlation_analysis(Spike_Mon10)\n",
    "print(corrmean)\n",
    "plt.imshow(corrmat, vmax = 0.01); plt.colorbar();"
   ]
  },
  {
   "cell_type": "code",
   "execution_count": null,
   "metadata": {},
   "outputs": [],
   "source": [
    "spike_frame_test = create_dataframe(Spike_Mon7)\n",
    "corrs_test = spike_frame_test.corr()\n",
    "fig, axes = plt.subplots(1,2, figsize=(15,5))\n",
    "im1 = axes[0].imshow(corrs_test, vmin=0.001, vmax = 0.01)\n",
    "plt.colorbar(im1, ax=axes[0])\n",
    "im2 = axes[1].imshow(np.log(np.abs(corrs_test)), vmin=-10, vmax = 1)\n",
    "plt.colorbar(im2, ax=axes[1])\n",
    "print(corrs_test.mean().mean())"
   ]
  }
 ],
 "metadata": {
  "kernelspec": {
   "display_name": "Python 3",
   "language": "python",
   "name": "python3"
  },
  "language_info": {
   "codemirror_mode": {
    "name": "ipython",
    "version": 3
   },
   "file_extension": ".py",
   "mimetype": "text/x-python",
   "name": "python",
   "nbconvert_exporter": "python",
   "pygments_lexer": "ipython3",
   "version": "3.6.9"
  }
 },
 "nbformat": 4,
 "nbformat_minor": 2
}
